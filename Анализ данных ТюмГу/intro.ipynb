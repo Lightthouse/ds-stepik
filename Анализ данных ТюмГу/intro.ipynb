{
 "cells": [
  {
   "cell_type": "code",
   "execution_count": 29,
   "metadata": {},
   "outputs": [],
   "source": [
    "import pandas as pd\n",
    "import seaborn as sns\n",
    "from sklearn.cluster import KMeans\n",
    "from sklearn.linear_model import LinearRegression\n",
    "from sklearn.metrics import mean_absolute_error\n",
    "from sklearn.ensemble import RandomForestClassifier, ExtraTreesClassifier\n",
    "from sklearn import tree, preprocessing"
   ]
  },
  {
   "cell_type": "code",
   "execution_count": 2,
   "metadata": {},
   "outputs": [],
   "source": [
    "df = pd.read_csv('../data_sets/students.csv')"
   ]
  },
  {
   "cell_type": "code",
   "execution_count": 3,
   "metadata": {},
   "outputs": [],
   "source": [
    "df.columns = df.columns.map(lambda x: x.lower().replace(' ', '_'))"
   ]
  },
  {
   "cell_type": "code",
   "execution_count": null,
   "metadata": {},
   "outputs": [],
   "source": [
    "df.loc[9]['age']"
   ]
  },
  {
   "cell_type": "code",
   "execution_count": null,
   "metadata": {},
   "outputs": [],
   "source": [
    "df[df.army == 'могут призвать'].hair_length.mean()"
   ]
  },
  {
   "cell_type": "code",
   "execution_count": null,
   "metadata": {},
   "outputs": [],
   "source": [
    "df.columns"
   ]
  },
  {
   "cell_type": "code",
   "execution_count": null,
   "metadata": {},
   "outputs": [],
   "source": [
    "df[df.friend_number == 0].sex"
   ]
  },
  {
   "cell_type": "code",
   "execution_count": null,
   "metadata": {},
   "outputs": [],
   "source": [
    "dog_lovers = df[df.animal == 'Собак']"
   ]
  },
  {
   "cell_type": "code",
   "execution_count": null,
   "metadata": {},
   "outputs": [],
   "source": [
    "dog_lovers[dog_lovers.floor_number == 1].floor_number.size / dog_lovers.floor_number.size"
   ]
  },
  {
   "cell_type": "code",
   "execution_count": null,
   "metadata": {},
   "outputs": [],
   "source": [
    "df[df['brother-sister'].str.contains('есть')].social_network_duration_min.median()"
   ]
  },
  {
   "cell_type": "code",
   "execution_count": null,
   "metadata": {},
   "outputs": [],
   "source": [
    "df[df['brother-sister'].str.contains('нет')].social_network_duration_min.median()"
   ]
  },
  {
   "cell_type": "code",
   "execution_count": null,
   "metadata": {},
   "outputs": [],
   "source": [
    "df_cut = df[['growth', 'weight', 'hair_length', 'year_of_birth', 'shoe_size']]"
   ]
  },
  {
   "cell_type": "code",
   "execution_count": null,
   "metadata": {},
   "outputs": [],
   "source": [
    "df_cut.sort_values(by=['shoe_size', 'growth'], ascending=[False, True]).head(2)"
   ]
  },
  {
   "cell_type": "code",
   "execution_count": null,
   "metadata": {},
   "outputs": [],
   "source": [
    "(df.growth + df.hair_length).max()"
   ]
  },
  {
   "cell_type": "code",
   "execution_count": null,
   "metadata": {},
   "outputs": [],
   "source": [
    "df_cut.corr()"
   ]
  },
  {
   "cell_type": "code",
   "execution_count": null,
   "metadata": {},
   "outputs": [],
   "source": [
    "df.groupby(['rock_paper_scissors'])[['russian_rating', 'maths_rating']].mean()"
   ]
  },
  {
   "cell_type": "code",
   "execution_count": null,
   "metadata": {},
   "outputs": [],
   "source": [
    "df.describe()"
   ]
  },
  {
   "cell_type": "code",
   "execution_count": null,
   "metadata": {},
   "outputs": [],
   "source": [
    "df.children_number.info()"
   ]
  },
  {
   "cell_type": "code",
   "execution_count": null,
   "metadata": {},
   "outputs": [],
   "source": [
    "df[df.sex== 'женский'].weight.mean(), df[df.sex== 'мужской'].weight.mean()"
   ]
  },
  {
   "cell_type": "code",
   "execution_count": null,
   "metadata": {},
   "outputs": [],
   "source": [
    "females = df[df.sex== 'женский'].weight.fillna(df[df.sex== 'женский'].weight.mean())"
   ]
  },
  {
   "cell_type": "code",
   "execution_count": null,
   "metadata": {},
   "outputs": [],
   "source": [
    "males = df[df.sex== 'мужской'].weight.fillna(df[df.sex== 'мужской'].weight.mean())"
   ]
  },
  {
   "cell_type": "code",
   "execution_count": null,
   "metadata": {},
   "outputs": [],
   "source": [
    "females, males"
   ]
  },
  {
   "cell_type": "code",
   "execution_count": null,
   "metadata": {},
   "outputs": [],
   "source": [
    "females.append(males).mean()"
   ]
  },
  {
   "cell_type": "code",
   "execution_count": null,
   "metadata": {},
   "outputs": [],
   "source": [
    "sublings = df[df['brother-sister'].str.contains('есть')]\n",
    "singles = df[df['brother-sister'].str.contains('нет')]"
   ]
  },
  {
   "cell_type": "code",
   "execution_count": null,
   "metadata": {},
   "outputs": [],
   "source": [
    "tmp = singles.children_number.fillna(singles.children_number.median())"
   ]
  },
  {
   "cell_type": "code",
   "execution_count": null,
   "metadata": {},
   "outputs": [],
   "source": [
    "tmp2 = sublings.children_number.fillna(sublings.children_number.median())"
   ]
  },
  {
   "cell_type": "code",
   "execution_count": null,
   "metadata": {},
   "outputs": [],
   "source": [
    "tmp.append(tmp2).describe()"
   ]
  },
  {
   "cell_type": "code",
   "execution_count": null,
   "metadata": {},
   "outputs": [],
   "source": [
    "sns.set_theme(style=\"ticks\", palette=\"pastel\")\n",
    "sns.boxplot(x='putin_age', data=df, palette=['m'])"
   ]
  },
  {
   "cell_type": "code",
   "execution_count": null,
   "metadata": {},
   "outputs": [],
   "source": [
    "quan25 = df.putin_age.quantile(.25)\n",
    "quan75 = df.putin_age.quantile(.75)\n",
    "quan_dif = 1.5*(quan75 - quan25)"
   ]
  },
  {
   "cell_type": "code",
   "execution_count": null,
   "metadata": {},
   "outputs": [],
   "source": [
    "normalize_putin_age = df[df.putin_age.between(quan25 - quan_dif, quan75 + quan_dif)]"
   ]
  },
  {
   "cell_type": "code",
   "execution_count": null,
   "metadata": {},
   "outputs": [],
   "source": [
    "sns.set_theme(style=\"ticks\", palette=\"pastel\")\n",
    "sns.boxplot(x='putin_age', data=normalize_putin_age, palette=['m'])"
   ]
  },
  {
   "cell_type": "code",
   "execution_count": null,
   "metadata": {},
   "outputs": [],
   "source": [
    "normalize_putin_age.putin_age.describe()"
   ]
  },
  {
   "cell_type": "code",
   "execution_count": null,
   "metadata": {},
   "outputs": [],
   "source": [
    "full_table = df.dropna()[['shoe_size', 'weight']]\n",
    "kmeans_model = KMeans(n_clusters=2, random_state=1, n_init=10).fit(full_table)\n",
    "full_table['labels'] = kmeans_model.labels_"
   ]
  },
  {
   "cell_type": "code",
   "execution_count": null,
   "metadata": {},
   "outputs": [],
   "source": [
    "sns.scatterplot(full_table, y=full_table.shoe_size, x=full_table.weight, hue=full_table.labels)"
   ]
  },
  {
   "cell_type": "code",
   "execution_count": null,
   "metadata": {},
   "outputs": [],
   "source": [
    "(full_table.labels == 0).count()"
   ]
  },
  {
   "cell_type": "code",
   "execution_count": null,
   "metadata": {},
   "outputs": [],
   "source": [
    "df.age.values.reshape(-1,1)"
   ]
  },
  {
   "cell_type": "code",
   "execution_count": null,
   "metadata": {},
   "outputs": [],
   "source": [
    "# 85 - yellow\n",
    "# 15 - white\n",
    "\n",
    "# 80 - ok\n",
    "# 20 - mistake"
   ]
  },
  {
   "cell_type": "code",
   "execution_count": null,
   "metadata": {},
   "outputs": [],
   "source": [
    "part_frame = df[['age', 'year_of_birth', 'month_of_birthday']]"
   ]
  },
  {
   "cell_type": "code",
   "execution_count": null,
   "metadata": {},
   "outputs": [],
   "source": [
    "reg = LinearRegression()\\\n",
    ".fit(part_frame[['year_of_birth','month_of_birthday']].values.reshape(-1,2), y=part_frame.age.values)"
   ]
  },
  {
   "cell_type": "code",
   "execution_count": null,
   "metadata": {},
   "outputs": [],
   "source": [
    "part_frame['predict'] = reg.predict(part_frame[['year_of_birth','month_of_birthday']].values.reshape(-1,2))"
   ]
  },
  {
   "cell_type": "code",
   "execution_count": null,
   "metadata": {},
   "outputs": [],
   "source": [
    "part_frame"
   ]
  },
  {
   "cell_type": "code",
   "execution_count": null,
   "metadata": {},
   "outputs": [],
   "source": [
    "mean_absolute_error(part_frame['age'], part_frame['predict'])"
   ]
  },
  {
   "cell_type": "code",
   "execution_count": null,
   "metadata": {},
   "outputs": [],
   "source": [
    "test_students = pd.read_csv('../data_sets/students_test.csv')\n"
   ]
  },
  {
   "cell_type": "code",
   "execution_count": null,
   "metadata": {},
   "outputs": [],
   "source": [
    "reg.predict(test_students[['year_of_birth','month_of_birthday']].values.reshape(-1,2))"
   ]
  },
  {
   "cell_type": "markdown",
   "metadata": {},
   "source": [
    "# вероятность"
   ]
  },
  {
   "cell_type": "code",
   "execution_count": 35,
   "metadata": {},
   "outputs": [],
   "source": [
    "full_df = pd.read_csv('../data_sets/students.csv')\n",
    "full_df_test = pd.read_csv('../data_sets/students_test.csv')\n",
    "\n",
    "full_df.columns = full_df.columns.map(lambda x: x.lower().replace(' ', '_'))\n",
    "full_df_test.columns = full_df_test.columns.map(lambda x: x.lower().replace(' ', ''))"
   ]
  },
  {
   "cell_type": "code",
   "execution_count": 8,
   "metadata": {},
   "outputs": [],
   "source": [
    "df=full_df[['growth','weight','sex']]\n",
    "test_df=full_df_test[['growth','weight','sex']]\n",
    "\n",
    "df = df.dropna()\n",
    "test_df = test_df.dropna()\n"
   ]
  },
  {
   "cell_type": "code",
   "execution_count": 9,
   "metadata": {},
   "outputs": [
    {
     "data": {
      "text/html": [
       "<style>#sk-container-id-1 {color: black;background-color: white;}#sk-container-id-1 pre{padding: 0;}#sk-container-id-1 div.sk-toggleable {background-color: white;}#sk-container-id-1 label.sk-toggleable__label {cursor: pointer;display: block;width: 100%;margin-bottom: 0;padding: 0.3em;box-sizing: border-box;text-align: center;}#sk-container-id-1 label.sk-toggleable__label-arrow:before {content: \"▸\";float: left;margin-right: 0.25em;color: #696969;}#sk-container-id-1 label.sk-toggleable__label-arrow:hover:before {color: black;}#sk-container-id-1 div.sk-estimator:hover label.sk-toggleable__label-arrow:before {color: black;}#sk-container-id-1 div.sk-toggleable__content {max-height: 0;max-width: 0;overflow: hidden;text-align: left;background-color: #f0f8ff;}#sk-container-id-1 div.sk-toggleable__content pre {margin: 0.2em;color: black;border-radius: 0.25em;background-color: #f0f8ff;}#sk-container-id-1 input.sk-toggleable__control:checked~div.sk-toggleable__content {max-height: 200px;max-width: 100%;overflow: auto;}#sk-container-id-1 input.sk-toggleable__control:checked~label.sk-toggleable__label-arrow:before {content: \"▾\";}#sk-container-id-1 div.sk-estimator input.sk-toggleable__control:checked~label.sk-toggleable__label {background-color: #d4ebff;}#sk-container-id-1 div.sk-label input.sk-toggleable__control:checked~label.sk-toggleable__label {background-color: #d4ebff;}#sk-container-id-1 input.sk-hidden--visually {border: 0;clip: rect(1px 1px 1px 1px);clip: rect(1px, 1px, 1px, 1px);height: 1px;margin: -1px;overflow: hidden;padding: 0;position: absolute;width: 1px;}#sk-container-id-1 div.sk-estimator {font-family: monospace;background-color: #f0f8ff;border: 1px dotted black;border-radius: 0.25em;box-sizing: border-box;margin-bottom: 0.5em;}#sk-container-id-1 div.sk-estimator:hover {background-color: #d4ebff;}#sk-container-id-1 div.sk-parallel-item::after {content: \"\";width: 100%;border-bottom: 1px solid gray;flex-grow: 1;}#sk-container-id-1 div.sk-label:hover label.sk-toggleable__label {background-color: #d4ebff;}#sk-container-id-1 div.sk-serial::before {content: \"\";position: absolute;border-left: 1px solid gray;box-sizing: border-box;top: 0;bottom: 0;left: 50%;z-index: 0;}#sk-container-id-1 div.sk-serial {display: flex;flex-direction: column;align-items: center;background-color: white;padding-right: 0.2em;padding-left: 0.2em;position: relative;}#sk-container-id-1 div.sk-item {position: relative;z-index: 1;}#sk-container-id-1 div.sk-parallel {display: flex;align-items: stretch;justify-content: center;background-color: white;position: relative;}#sk-container-id-1 div.sk-item::before, #sk-container-id-1 div.sk-parallel-item::before {content: \"\";position: absolute;border-left: 1px solid gray;box-sizing: border-box;top: 0;bottom: 0;left: 50%;z-index: -1;}#sk-container-id-1 div.sk-parallel-item {display: flex;flex-direction: column;z-index: 1;position: relative;background-color: white;}#sk-container-id-1 div.sk-parallel-item:first-child::after {align-self: flex-end;width: 50%;}#sk-container-id-1 div.sk-parallel-item:last-child::after {align-self: flex-start;width: 50%;}#sk-container-id-1 div.sk-parallel-item:only-child::after {width: 0;}#sk-container-id-1 div.sk-dashed-wrapped {border: 1px dashed gray;margin: 0 0.4em 0.5em 0.4em;box-sizing: border-box;padding-bottom: 0.4em;background-color: white;}#sk-container-id-1 div.sk-label label {font-family: monospace;font-weight: bold;display: inline-block;line-height: 1.2em;}#sk-container-id-1 div.sk-label-container {text-align: center;}#sk-container-id-1 div.sk-container {/* jupyter's `normalize.less` sets `[hidden] { display: none; }` but bootstrap.min.css set `[hidden] { display: none !important; }` so we also need the `!important` here to be able to override the default hidden behavior on the sphinx rendered scikit-learn.org. See: https://github.com/scikit-learn/scikit-learn/issues/21755 */display: inline-block !important;position: relative;}#sk-container-id-1 div.sk-text-repr-fallback {display: none;}</style><div id=\"sk-container-id-1\" class=\"sk-top-container\"><div class=\"sk-text-repr-fallback\"><pre>RandomForestClassifier(max_depth=2, random_state=0)</pre><b>In a Jupyter environment, please rerun this cell to show the HTML representation or trust the notebook. <br />On GitHub, the HTML representation is unable to render, please try loading this page with nbviewer.org.</b></div><div class=\"sk-container\" hidden><div class=\"sk-item\"><div class=\"sk-estimator sk-toggleable\"><input class=\"sk-toggleable__control sk-hidden--visually\" id=\"sk-estimator-id-1\" type=\"checkbox\" checked><label for=\"sk-estimator-id-1\" class=\"sk-toggleable__label sk-toggleable__label-arrow\">RandomForestClassifier</label><div class=\"sk-toggleable__content\"><pre>RandomForestClassifier(max_depth=2, random_state=0)</pre></div></div></div></div></div>"
      ],
      "text/plain": [
       "RandomForestClassifier(max_depth=2, random_state=0)"
      ]
     },
     "execution_count": 9,
     "metadata": {},
     "output_type": "execute_result"
    }
   ],
   "source": [
    "forest_model = RandomForestClassifier(max_depth=2, random_state=0)\n",
    "forest_model.fit(df[['growth','weight']].values.reshape(-1,2), y=df.sex.values)"
   ]
  },
  {
   "cell_type": "code",
   "execution_count": 22,
   "metadata": {},
   "outputs": [],
   "source": [
    "test_df['predict'] = forest_model.predict(test_df[['growth','weight']].values.reshape(-1,2))\n",
    "\n",
    "probability = forest_model.predict_proba(test_df[['growth','weight']].values.reshape(-1,2))\n",
    "test_df['prob_woman'] = probability[:, 0]\n",
    "test_df['prob_man'] = probability[:, 1]\n"
   ]
  },
  {
   "cell_type": "code",
   "execution_count": 27,
   "metadata": {},
   "outputs": [
    {
     "data": {
      "text/html": [
       "<div>\n",
       "<style scoped>\n",
       "    .dataframe tbody tr th:only-of-type {\n",
       "        vertical-align: middle;\n",
       "    }\n",
       "\n",
       "    .dataframe tbody tr th {\n",
       "        vertical-align: top;\n",
       "    }\n",
       "\n",
       "    .dataframe thead th {\n",
       "        text-align: right;\n",
       "    }\n",
       "</style>\n",
       "<table border=\"1\" class=\"dataframe\">\n",
       "  <thead>\n",
       "    <tr style=\"text-align: right;\">\n",
       "      <th></th>\n",
       "      <th>growth</th>\n",
       "      <th>weight</th>\n",
       "      <th>sex</th>\n",
       "      <th>predict</th>\n",
       "      <th>prob_man</th>\n",
       "      <th>prob_woman</th>\n",
       "    </tr>\n",
       "  </thead>\n",
       "  <tbody>\n",
       "    <tr>\n",
       "      <th>61</th>\n",
       "      <td>162.0</td>\n",
       "      <td>49.0</td>\n",
       "      <td>женский</td>\n",
       "      <td>женский</td>\n",
       "      <td>0.056850</td>\n",
       "      <td>0.943150</td>\n",
       "    </tr>\n",
       "    <tr>\n",
       "      <th>79</th>\n",
       "      <td>162.0</td>\n",
       "      <td>49.0</td>\n",
       "      <td>женский</td>\n",
       "      <td>женский</td>\n",
       "      <td>0.056850</td>\n",
       "      <td>0.943150</td>\n",
       "    </tr>\n",
       "    <tr>\n",
       "      <th>17</th>\n",
       "      <td>159.0</td>\n",
       "      <td>49.0</td>\n",
       "      <td>женский</td>\n",
       "      <td>женский</td>\n",
       "      <td>0.056850</td>\n",
       "      <td>0.943150</td>\n",
       "    </tr>\n",
       "    <tr>\n",
       "      <th>52</th>\n",
       "      <td>160.0</td>\n",
       "      <td>50.0</td>\n",
       "      <td>женский</td>\n",
       "      <td>женский</td>\n",
       "      <td>0.056920</td>\n",
       "      <td>0.943080</td>\n",
       "    </tr>\n",
       "    <tr>\n",
       "      <th>39</th>\n",
       "      <td>157.0</td>\n",
       "      <td>49.0</td>\n",
       "      <td>женский</td>\n",
       "      <td>женский</td>\n",
       "      <td>0.058491</td>\n",
       "      <td>0.941509</td>\n",
       "    </tr>\n",
       "    <tr>\n",
       "      <th>...</th>\n",
       "      <td>...</td>\n",
       "      <td>...</td>\n",
       "      <td>...</td>\n",
       "      <td>...</td>\n",
       "      <td>...</td>\n",
       "      <td>...</td>\n",
       "    </tr>\n",
       "    <tr>\n",
       "      <th>57</th>\n",
       "      <td>186.0</td>\n",
       "      <td>100.0</td>\n",
       "      <td>мужской</td>\n",
       "      <td>мужской</td>\n",
       "      <td>0.914950</td>\n",
       "      <td>0.085050</td>\n",
       "    </tr>\n",
       "    <tr>\n",
       "      <th>33</th>\n",
       "      <td>196.0</td>\n",
       "      <td>97.0</td>\n",
       "      <td>мужской</td>\n",
       "      <td>мужской</td>\n",
       "      <td>0.914950</td>\n",
       "      <td>0.085050</td>\n",
       "    </tr>\n",
       "    <tr>\n",
       "      <th>28</th>\n",
       "      <td>193.0</td>\n",
       "      <td>105.0</td>\n",
       "      <td>мужской</td>\n",
       "      <td>мужской</td>\n",
       "      <td>0.914950</td>\n",
       "      <td>0.085050</td>\n",
       "    </tr>\n",
       "    <tr>\n",
       "      <th>23</th>\n",
       "      <td>194.0</td>\n",
       "      <td>97.0</td>\n",
       "      <td>мужской</td>\n",
       "      <td>мужской</td>\n",
       "      <td>0.914950</td>\n",
       "      <td>0.085050</td>\n",
       "    </tr>\n",
       "    <tr>\n",
       "      <th>4</th>\n",
       "      <td>186.0</td>\n",
       "      <td>94.0</td>\n",
       "      <td>мужской</td>\n",
       "      <td>мужской</td>\n",
       "      <td>0.914950</td>\n",
       "      <td>0.085050</td>\n",
       "    </tr>\n",
       "  </tbody>\n",
       "</table>\n",
       "<p>77 rows × 6 columns</p>\n",
       "</div>"
      ],
      "text/plain": [
       "    growth  weight      sex  predict  prob_man  prob_woman\n",
       "61   162.0    49.0  женский  женский  0.056850    0.943150\n",
       "79   162.0    49.0  женский  женский  0.056850    0.943150\n",
       "17   159.0    49.0  женский  женский  0.056850    0.943150\n",
       "52   160.0    50.0  женский  женский  0.056920    0.943080\n",
       "39   157.0    49.0  женский  женский  0.058491    0.941509\n",
       "..     ...     ...      ...      ...       ...         ...\n",
       "57   186.0   100.0  мужской  мужской  0.914950    0.085050\n",
       "33   196.0    97.0  мужской  мужской  0.914950    0.085050\n",
       "28   193.0   105.0  мужской  мужской  0.914950    0.085050\n",
       "23   194.0    97.0  мужской  мужской  0.914950    0.085050\n",
       "4    186.0    94.0  мужской  мужской  0.914950    0.085050\n",
       "\n",
       "[77 rows x 6 columns]"
      ]
     },
     "execution_count": 27,
     "metadata": {},
     "output_type": "execute_result"
    }
   ],
   "source": [
    "test_df.sort_values(by='prob_woman', ascending=False)"
   ]
  },
  {
   "cell_type": "markdown",
   "metadata": {},
   "source": [
    "# Ищем институт. Какие признаки важны для этого "
   ]
  },
  {
   "cell_type": "code",
   "execution_count": 63,
   "metadata": {},
   "outputs": [],
   "source": [
    "coder = preprocessing.LabelEncoder()"
   ]
  },
  {
   "cell_type": "code",
   "execution_count": 78,
   "metadata": {},
   "outputs": [],
   "source": [
    "categorial_columns = ['sex', 'coin', 'animal', 'army', 'glasses', 'your_rating_in_university', 'fastfood',\n",
    "                     'hostel', 'chocolate', 'brother-sister', 'plane_seat', 'problems_in_last_semester', \n",
    "                      'rock_paper_scissors', 'strange_people', 'your_insitute'\n",
    "                     ]\n",
    "#object_col = [col for col in df.columns if df[col].dtype==object]"
   ]
  },
  {
   "cell_type": "code",
   "execution_count": 79,
   "metadata": {},
   "outputs": [
    {
     "name": "stderr",
     "output_type": "stream",
     "text": [
      "/tmp/ipykernel_12932/3441455394.py:6: SettingWithCopyWarning: \n",
      "A value is trying to be set on a copy of a slice from a DataFrame.\n",
      "Try using .loc[row_indexer,col_indexer] = value instead\n",
      "\n",
      "See the caveats in the documentation: https://pandas.pydata.org/pandas-docs/stable/user_guide/indexing.html#returning-a-view-versus-a-copy\n",
      "  cat_df[name] = coder.transform(cat_df[name])\n",
      "/tmp/ipykernel_12932/3441455394.py:6: SettingWithCopyWarning: \n",
      "A value is trying to be set on a copy of a slice from a DataFrame.\n",
      "Try using .loc[row_indexer,col_indexer] = value instead\n",
      "\n",
      "See the caveats in the documentation: https://pandas.pydata.org/pandas-docs/stable/user_guide/indexing.html#returning-a-view-versus-a-copy\n",
      "  cat_df[name] = coder.transform(cat_df[name])\n",
      "/tmp/ipykernel_12932/3441455394.py:6: SettingWithCopyWarning: \n",
      "A value is trying to be set on a copy of a slice from a DataFrame.\n",
      "Try using .loc[row_indexer,col_indexer] = value instead\n",
      "\n",
      "See the caveats in the documentation: https://pandas.pydata.org/pandas-docs/stable/user_guide/indexing.html#returning-a-view-versus-a-copy\n",
      "  cat_df[name] = coder.transform(cat_df[name])\n",
      "/tmp/ipykernel_12932/3441455394.py:6: SettingWithCopyWarning: \n",
      "A value is trying to be set on a copy of a slice from a DataFrame.\n",
      "Try using .loc[row_indexer,col_indexer] = value instead\n",
      "\n",
      "See the caveats in the documentation: https://pandas.pydata.org/pandas-docs/stable/user_guide/indexing.html#returning-a-view-versus-a-copy\n",
      "  cat_df[name] = coder.transform(cat_df[name])\n",
      "/tmp/ipykernel_12932/3441455394.py:6: SettingWithCopyWarning: \n",
      "A value is trying to be set on a copy of a slice from a DataFrame.\n",
      "Try using .loc[row_indexer,col_indexer] = value instead\n",
      "\n",
      "See the caveats in the documentation: https://pandas.pydata.org/pandas-docs/stable/user_guide/indexing.html#returning-a-view-versus-a-copy\n",
      "  cat_df[name] = coder.transform(cat_df[name])\n",
      "/tmp/ipykernel_12932/3441455394.py:6: SettingWithCopyWarning: \n",
      "A value is trying to be set on a copy of a slice from a DataFrame.\n",
      "Try using .loc[row_indexer,col_indexer] = value instead\n",
      "\n",
      "See the caveats in the documentation: https://pandas.pydata.org/pandas-docs/stable/user_guide/indexing.html#returning-a-view-versus-a-copy\n",
      "  cat_df[name] = coder.transform(cat_df[name])\n",
      "/tmp/ipykernel_12932/3441455394.py:6: SettingWithCopyWarning: \n",
      "A value is trying to be set on a copy of a slice from a DataFrame.\n",
      "Try using .loc[row_indexer,col_indexer] = value instead\n",
      "\n",
      "See the caveats in the documentation: https://pandas.pydata.org/pandas-docs/stable/user_guide/indexing.html#returning-a-view-versus-a-copy\n",
      "  cat_df[name] = coder.transform(cat_df[name])\n",
      "/tmp/ipykernel_12932/3441455394.py:6: SettingWithCopyWarning: \n",
      "A value is trying to be set on a copy of a slice from a DataFrame.\n",
      "Try using .loc[row_indexer,col_indexer] = value instead\n",
      "\n",
      "See the caveats in the documentation: https://pandas.pydata.org/pandas-docs/stable/user_guide/indexing.html#returning-a-view-versus-a-copy\n",
      "  cat_df[name] = coder.transform(cat_df[name])\n",
      "/tmp/ipykernel_12932/3441455394.py:6: SettingWithCopyWarning: \n",
      "A value is trying to be set on a copy of a slice from a DataFrame.\n",
      "Try using .loc[row_indexer,col_indexer] = value instead\n",
      "\n",
      "See the caveats in the documentation: https://pandas.pydata.org/pandas-docs/stable/user_guide/indexing.html#returning-a-view-versus-a-copy\n",
      "  cat_df[name] = coder.transform(cat_df[name])\n",
      "/tmp/ipykernel_12932/3441455394.py:6: SettingWithCopyWarning: \n",
      "A value is trying to be set on a copy of a slice from a DataFrame.\n",
      "Try using .loc[row_indexer,col_indexer] = value instead\n",
      "\n",
      "See the caveats in the documentation: https://pandas.pydata.org/pandas-docs/stable/user_guide/indexing.html#returning-a-view-versus-a-copy\n",
      "  cat_df[name] = coder.transform(cat_df[name])\n",
      "/tmp/ipykernel_12932/3441455394.py:6: SettingWithCopyWarning: \n",
      "A value is trying to be set on a copy of a slice from a DataFrame.\n",
      "Try using .loc[row_indexer,col_indexer] = value instead\n",
      "\n",
      "See the caveats in the documentation: https://pandas.pydata.org/pandas-docs/stable/user_guide/indexing.html#returning-a-view-versus-a-copy\n",
      "  cat_df[name] = coder.transform(cat_df[name])\n",
      "/tmp/ipykernel_12932/3441455394.py:6: SettingWithCopyWarning: \n",
      "A value is trying to be set on a copy of a slice from a DataFrame.\n",
      "Try using .loc[row_indexer,col_indexer] = value instead\n",
      "\n",
      "See the caveats in the documentation: https://pandas.pydata.org/pandas-docs/stable/user_guide/indexing.html#returning-a-view-versus-a-copy\n",
      "  cat_df[name] = coder.transform(cat_df[name])\n",
      "/tmp/ipykernel_12932/3441455394.py:6: SettingWithCopyWarning: \n",
      "A value is trying to be set on a copy of a slice from a DataFrame.\n",
      "Try using .loc[row_indexer,col_indexer] = value instead\n",
      "\n",
      "See the caveats in the documentation: https://pandas.pydata.org/pandas-docs/stable/user_guide/indexing.html#returning-a-view-versus-a-copy\n",
      "  cat_df[name] = coder.transform(cat_df[name])\n",
      "/tmp/ipykernel_12932/3441455394.py:6: SettingWithCopyWarning: \n",
      "A value is trying to be set on a copy of a slice from a DataFrame.\n",
      "Try using .loc[row_indexer,col_indexer] = value instead\n",
      "\n",
      "See the caveats in the documentation: https://pandas.pydata.org/pandas-docs/stable/user_guide/indexing.html#returning-a-view-versus-a-copy\n",
      "  cat_df[name] = coder.transform(cat_df[name])\n",
      "/tmp/ipykernel_12932/3441455394.py:6: SettingWithCopyWarning: \n",
      "A value is trying to be set on a copy of a slice from a DataFrame.\n",
      "Try using .loc[row_indexer,col_indexer] = value instead\n",
      "\n",
      "See the caveats in the documentation: https://pandas.pydata.org/pandas-docs/stable/user_guide/indexing.html#returning-a-view-versus-a-copy\n",
      "  cat_df[name] = coder.transform(cat_df[name])\n"
     ]
    }
   ],
   "source": [
    "# Цифровизуем признаки\n",
    "cat_df = full_df\n",
    "cat_df = cat_df.dropna()\n",
    "for name in categorial_columns:\n",
    "    coder.fit(cat_df[name])\n",
    "    cat_df[name] = coder.transform(cat_df[name])"
   ]
  },
  {
   "cell_type": "code",
   "execution_count": 80,
   "metadata": {},
   "outputs": [
    {
     "data": {
      "text/plain": [
       "array([0.01379778, 0.01410005, 0.01889325, 0.00845003, 0.00918627,\n",
       "       0.01683784, 0.01612761, 0.06209791, 0.01156979, 0.08050101,\n",
       "       0.00907296, 0.02658442, 0.04907821, 0.01167486, 0.01403013,\n",
       "       0.02305154, 0.06403327, 0.0136191 , 0.01375285, 0.01756961,\n",
       "       0.00908666, 0.01192926, 0.01340641, 0.01713737, 0.00637692,\n",
       "       0.01328429, 0.01130246, 0.008858  , 0.01061926, 0.00692501,\n",
       "       0.01125756, 0.0150213 , 0.01472603, 0.01127241, 0.00550252,\n",
       "       0.00439049, 0.01304118, 0.01065977, 0.01444016, 0.01952191,\n",
       "       0.00845459, 0.01492578, 0.20285181, 0.00763841, 0.01065694,\n",
       "       0.01212147, 0.01062842, 0.00993513])"
      ]
     },
     "execution_count": 80,
     "metadata": {},
     "output_type": "execute_result"
    }
   ],
   "source": [
    "selector = ExtraTreesClassifier()\n",
    "result = selector.fit(cat_df, cat_df.your_insitute)\n",
    "result.feature_importances_"
   ]
  },
  {
   "cell_type": "code",
   "execution_count": 81,
   "metadata": {},
   "outputs": [],
   "source": [
    "features_table = pd.DataFrame(result.feature_importances_, index=cat_df.columns, columns=['importance'])"
   ]
  },
  {
   "cell_type": "code",
   "execution_count": 82,
   "metadata": {},
   "outputs": [
    {
     "data": {
      "text/html": [
       "<div>\n",
       "<style scoped>\n",
       "    .dataframe tbody tr th:only-of-type {\n",
       "        vertical-align: middle;\n",
       "    }\n",
       "\n",
       "    .dataframe tbody tr th {\n",
       "        vertical-align: top;\n",
       "    }\n",
       "\n",
       "    .dataframe thead th {\n",
       "        text-align: right;\n",
       "    }\n",
       "</style>\n",
       "<table border=\"1\" class=\"dataframe\">\n",
       "  <thead>\n",
       "    <tr style=\"text-align: right;\">\n",
       "      <th></th>\n",
       "      <th>importance</th>\n",
       "    </tr>\n",
       "  </thead>\n",
       "  <tbody>\n",
       "    <tr>\n",
       "      <th>age</th>\n",
       "      <td>0.013798</td>\n",
       "    </tr>\n",
       "    <tr>\n",
       "      <th>growth</th>\n",
       "      <td>0.014100</td>\n",
       "    </tr>\n",
       "    <tr>\n",
       "      <th>shoe_size</th>\n",
       "      <td>0.018893</td>\n",
       "    </tr>\n",
       "    <tr>\n",
       "      <th>course_number</th>\n",
       "      <td>0.008450</td>\n",
       "    </tr>\n",
       "    <tr>\n",
       "      <th>year_of_birth</th>\n",
       "      <td>0.009186</td>\n",
       "    </tr>\n",
       "    <tr>\n",
       "      <th>friend_number</th>\n",
       "      <td>0.016838</td>\n",
       "    </tr>\n",
       "    <tr>\n",
       "      <th>russian_rating</th>\n",
       "      <td>0.016128</td>\n",
       "    </tr>\n",
       "    <tr>\n",
       "      <th>maths_rating</th>\n",
       "      <td>0.062098</td>\n",
       "    </tr>\n",
       "    <tr>\n",
       "      <th>physics_rating</th>\n",
       "      <td>0.011570</td>\n",
       "    </tr>\n",
       "    <tr>\n",
       "      <th>computer_science_rating</th>\n",
       "      <td>0.080501</td>\n",
       "    </tr>\n",
       "    <tr>\n",
       "      <th>chemistry_rating</th>\n",
       "      <td>0.009073</td>\n",
       "    </tr>\n",
       "    <tr>\n",
       "      <th>literature_rating</th>\n",
       "      <td>0.026584</td>\n",
       "    </tr>\n",
       "    <tr>\n",
       "      <th>history_rating</th>\n",
       "      <td>0.049078</td>\n",
       "    </tr>\n",
       "    <tr>\n",
       "      <th>geography_rating</th>\n",
       "      <td>0.011675</td>\n",
       "    </tr>\n",
       "    <tr>\n",
       "      <th>biology_rating</th>\n",
       "      <td>0.014030</td>\n",
       "    </tr>\n",
       "    <tr>\n",
       "      <th>foreign_language_rating</th>\n",
       "      <td>0.023052</td>\n",
       "    </tr>\n",
       "    <tr>\n",
       "      <th>social_science_rating</th>\n",
       "      <td>0.064033</td>\n",
       "    </tr>\n",
       "    <tr>\n",
       "      <th>distance_to_home_km</th>\n",
       "      <td>0.013619</td>\n",
       "    </tr>\n",
       "    <tr>\n",
       "      <th>minutes_to_first_class</th>\n",
       "      <td>0.013753</td>\n",
       "    </tr>\n",
       "    <tr>\n",
       "      <th>children_number</th>\n",
       "      <td>0.017570</td>\n",
       "    </tr>\n",
       "    <tr>\n",
       "      <th>removed_teeth</th>\n",
       "      <td>0.009087</td>\n",
       "    </tr>\n",
       "    <tr>\n",
       "      <th>weight</th>\n",
       "      <td>0.011929</td>\n",
       "    </tr>\n",
       "    <tr>\n",
       "      <th>glasses</th>\n",
       "      <td>0.013406</td>\n",
       "    </tr>\n",
       "    <tr>\n",
       "      <th>sex</th>\n",
       "      <td>0.017137</td>\n",
       "    </tr>\n",
       "    <tr>\n",
       "      <th>problems_in_last_semester</th>\n",
       "      <td>0.006377</td>\n",
       "    </tr>\n",
       "    <tr>\n",
       "      <th>coin</th>\n",
       "      <td>0.013284</td>\n",
       "    </tr>\n",
       "    <tr>\n",
       "      <th>rock_paper_scissors</th>\n",
       "      <td>0.011302</td>\n",
       "    </tr>\n",
       "    <tr>\n",
       "      <th>animal</th>\n",
       "      <td>0.008858</td>\n",
       "    </tr>\n",
       "    <tr>\n",
       "      <th>month_of_birthday</th>\n",
       "      <td>0.010619</td>\n",
       "    </tr>\n",
       "    <tr>\n",
       "      <th>your_rating_in_university</th>\n",
       "      <td>0.006925</td>\n",
       "    </tr>\n",
       "    <tr>\n",
       "      <th>fastfood</th>\n",
       "      <td>0.011258</td>\n",
       "    </tr>\n",
       "    <tr>\n",
       "      <th>height_of_5000_mm</th>\n",
       "      <td>0.015021</td>\n",
       "    </tr>\n",
       "    <tr>\n",
       "      <th>width_of_5000_mm</th>\n",
       "      <td>0.014726</td>\n",
       "    </tr>\n",
       "    <tr>\n",
       "      <th>putin_age</th>\n",
       "      <td>0.011272</td>\n",
       "    </tr>\n",
       "    <tr>\n",
       "      <th>army</th>\n",
       "      <td>0.005503</td>\n",
       "    </tr>\n",
       "    <tr>\n",
       "      <th>hostel</th>\n",
       "      <td>0.004390</td>\n",
       "    </tr>\n",
       "    <tr>\n",
       "      <th>hair_length</th>\n",
       "      <td>0.013041</td>\n",
       "    </tr>\n",
       "    <tr>\n",
       "      <th>floor_number</th>\n",
       "      <td>0.010660</td>\n",
       "    </tr>\n",
       "    <tr>\n",
       "      <th>social_network_duration_min</th>\n",
       "      <td>0.014440</td>\n",
       "    </tr>\n",
       "    <tr>\n",
       "      <th>chocolate</th>\n",
       "      <td>0.019522</td>\n",
       "    </tr>\n",
       "    <tr>\n",
       "      <th>city_population</th>\n",
       "      <td>0.008455</td>\n",
       "    </tr>\n",
       "    <tr>\n",
       "      <th>strange_people</th>\n",
       "      <td>0.014926</td>\n",
       "    </tr>\n",
       "    <tr>\n",
       "      <th>your_insitute</th>\n",
       "      <td>0.202852</td>\n",
       "    </tr>\n",
       "    <tr>\n",
       "      <th>brother-sister</th>\n",
       "      <td>0.007638</td>\n",
       "    </tr>\n",
       "    <tr>\n",
       "      <th>plane_seat</th>\n",
       "      <td>0.010657</td>\n",
       "    </tr>\n",
       "    <tr>\n",
       "      <th>middle_and_index_finger</th>\n",
       "      <td>0.012121</td>\n",
       "    </tr>\n",
       "    <tr>\n",
       "      <th>middle_and_ring_finger</th>\n",
       "      <td>0.010628</td>\n",
       "    </tr>\n",
       "    <tr>\n",
       "      <th>middle_and_little_finger</th>\n",
       "      <td>0.009935</td>\n",
       "    </tr>\n",
       "  </tbody>\n",
       "</table>\n",
       "</div>"
      ],
      "text/plain": [
       "                             importance\n",
       "age                            0.013798\n",
       "growth                         0.014100\n",
       "shoe_size                      0.018893\n",
       "course_number                  0.008450\n",
       "year_of_birth                  0.009186\n",
       "friend_number                  0.016838\n",
       "russian_rating                 0.016128\n",
       "maths_rating                   0.062098\n",
       "physics_rating                 0.011570\n",
       "computer_science_rating        0.080501\n",
       "chemistry_rating               0.009073\n",
       "literature_rating              0.026584\n",
       "history_rating                 0.049078\n",
       "geography_rating               0.011675\n",
       "biology_rating                 0.014030\n",
       "foreign_language_rating        0.023052\n",
       "social_science_rating          0.064033\n",
       "distance_to_home_km            0.013619\n",
       "minutes_to_first_class         0.013753\n",
       "children_number                0.017570\n",
       "removed_teeth                  0.009087\n",
       "weight                         0.011929\n",
       "glasses                        0.013406\n",
       "sex                            0.017137\n",
       "problems_in_last_semester      0.006377\n",
       "coin                           0.013284\n",
       "rock_paper_scissors            0.011302\n",
       "animal                         0.008858\n",
       "month_of_birthday              0.010619\n",
       "your_rating_in_university      0.006925\n",
       "fastfood                       0.011258\n",
       "height_of_5000_mm              0.015021\n",
       "width_of_5000_mm               0.014726\n",
       "putin_age                      0.011272\n",
       "army                           0.005503\n",
       "hostel                         0.004390\n",
       "hair_length                    0.013041\n",
       "floor_number                   0.010660\n",
       "social_network_duration_min    0.014440\n",
       "chocolate                      0.019522\n",
       "city_population                0.008455\n",
       "strange_people                 0.014926\n",
       "your_insitute                  0.202852\n",
       "brother-sister                 0.007638\n",
       "plane_seat                     0.010657\n",
       "middle_and_index_finger        0.012121\n",
       "middle_and_ring_finger         0.010628\n",
       "middle_and_little_finger       0.009935"
      ]
     },
     "execution_count": 82,
     "metadata": {},
     "output_type": "execute_result"
    }
   ],
   "source": [
    "features_table"
   ]
  },
  {
   "cell_type": "code",
   "execution_count": null,
   "metadata": {},
   "outputs": [],
   "source": []
  }
 ],
 "metadata": {
  "kernelspec": {
   "display_name": "Python 3 (ipykernel)",
   "language": "python",
   "name": "python3"
  },
  "language_info": {
   "codemirror_mode": {
    "name": "ipython",
    "version": 3
   },
   "file_extension": ".py",
   "mimetype": "text/x-python",
   "name": "python",
   "nbconvert_exporter": "python",
   "pygments_lexer": "ipython3",
   "version": "3.11.2"
  }
 },
 "nbformat": 4,
 "nbformat_minor": 1
}
